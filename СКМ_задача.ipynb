{
  "nbformat": 4,
  "nbformat_minor": 0,
  "metadata": {
    "colab": {
      "name": "СКМ задача.ipynb",
      "provenance": [],
      "collapsed_sections": []
    },
    "kernelspec": {
      "name": "python3",
      "display_name": "Python 3"
    },
    "language_info": {
      "name": "python"
    }
  },
  "cells": [
    {
      "cell_type": "markdown",
      "metadata": {
        "id": "7HVFpEOIdonG"
      },
      "source": [
        "**Интерполяция и численное интегрирование. Формула ошибок**\n",
        "\n",
        "Постройте $11$ точек, взяв$$\n",
        "x_i = \\frac{i-1}{10}, \\quad y_i = {\\rm erf} x_i\\quad (i=1,\\dots,11),\n",
        "$$где$$\n",
        "{\\rm erf} x = \\frac{2}{\\sqrt{\\pi}} \\int_0^x e^{-t^2} dt\n",
        "$$– функция ошибок. Для вычисления ${\\rm erf}   x$ воспользуйтесь scipy.special.erf.\n",
        "\n",
        "Составьте систему линейных уравнений для нахождения коэффициентов интерполирующего многочлена $10$-й степени. С помощью функции scipy.linalg.cond найдите число обусловленности этой системы. Решите составленную систему. Насколько достоверно полученное решение? С помощью построенного интерполянта протабулируйте значение функции в промежуточных точках. Чему равны абсолютная и относительная ошибки?\n",
        "Сравните коэффициенты построенного интерполирующего многочлена с коэффициентами многочлена, который можно получить с помощью функции numpy.polyfit. В чем разница?\n",
        "\n",
        "Постройте кубический эрмитов интерполянт (scipy.interpolate.pchip) и кубический сплайн (scipy.interpolate.spline). Найдите значения интерполянтов в тех же точках, что и в предыдущих пунктах и сравните результаты.\n",
        "\n",
        "Составленная программа должна выводить исходные точки, графики интерполируемой функции и интерполянтов и графики зависимости числа обусловленности от степени интерполяционного многочлена"
      ]
    },
    {
      "cell_type": "code",
      "metadata": {
        "id": "zCgTikWLeGRZ"
      },
      "source": [
        "import numpy as np\n",
        "import matplotlib.pyplot as plt\n",
        "import scipy\n",
        "from scipy import special\n",
        "from scipy import linalg\n",
        "from scipy import interpolate\n",
        "%matplotlib inline"
      ],
      "execution_count": null,
      "outputs": []
    },
    {
      "cell_type": "code",
      "metadata": {
        "id": "EXyGVZJ8eP8c",
        "colab": {
          "base_uri": "https://localhost:8080/"
        },
        "outputId": "60ef681a-e15d-4a8f-e6d0-2d95e854ef09"
      },
      "source": [
        "x=[0.0,0.1,0.2,0.3,0.4,0.5,0.6,0.7,0.8,0.9,1.0]\n",
        "y=scipy.special.erf(x)\n",
        "for i in range(0,11):\n",
        "  print(x[i],y[i])"
      ],
      "execution_count": null,
      "outputs": [
        {
          "output_type": "stream",
          "text": [
            "0.0 0.0\n",
            "0.1 0.1124629160182849\n",
            "0.2 0.22270258921047845\n",
            "0.3 0.3286267594591274\n",
            "0.4 0.42839235504666845\n",
            "0.5 0.5204998778130465\n",
            "0.6 0.6038560908479258\n",
            "0.7 0.6778011938374183\n",
            "0.8 0.7421009647076605\n",
            "0.9 0.7969082124228322\n",
            "1.0 0.8427007929497148\n"
          ],
          "name": "stdout"
        }
      ]
    },
    {
      "cell_type": "markdown",
      "metadata": {
        "id": "8mzVY1KBeXjv"
      },
      "source": [
        "Построим исходные точки:"
      ]
    },
    {
      "cell_type": "code",
      "metadata": {
        "colab": {
          "base_uri": "https://localhost:8080/",
          "height": 281
        },
        "id": "kCloD9ZNesyL",
        "outputId": "f7634495-9658-44ba-e7ad-29f3613cac27"
      },
      "source": [
        "plt.title('Исходные точки')\n",
        "plt.plot(x,y,'ro')\n",
        "pass"
      ],
      "execution_count": null,
      "outputs": [
        {
          "output_type": "display_data",
          "data": {
            "image/png": "[encoded data removed]",
            "text/plain": [
              "<Figure size 432x288 with 1 Axes>"
            ]
          },
          "metadata": {
            "tags": [],
            "needs_background": "light"
          }
        }
      ]
    },
    {
      "cell_type": "markdown",
      "metadata": {
        "id": "tW3P7UWAfyL0"
      },
      "source": [
        "Составим систему линейных уравнений для нахождения коэффициентов интерполирующего многочлена  10-й степени c помощью матрицы Вандермонда (np.vander)\n",
        "\n",
        " Решим составленную систему (функция scipy.linalg.solve):"
      ]
    },
    {
      "cell_type": "code",
      "metadata": {
        "colab": {
          "base_uri": "https://localhost:8080/"
        },
        "id": "SafoKx2CgIT7",
        "outputId": "c460071e-fac4-4334-ba08-b4eedbc42d1e"
      },
      "source": [
        "W = np.vander(x)\n",
        "res=scipy.linalg.solve(W,y)\n",
        "res"
      ],
      "execution_count": null,
      "outputs": [
        {
          "output_type": "execute_result",
          "data": {
            "text/plain": [
              "array([-1.46537037e-03,  5.41662270e-03,  2.13905314e-03, -2.99669744e-02,\n",
              "        2.22912462e-03,  1.11876424e-01,  2.56838187e-04, -3.76167525e-01,\n",
              "        3.55779444e-06,  1.12837904e+00,  0.00000000e+00])"
            ]
          },
          "metadata": {
            "tags": []
          },
          "execution_count": 4
        }
      ]
    },
    {
      "cell_type": "markdown",
      "metadata": {
        "id": "wiaaprtNgejX"
      },
      "source": [
        "Коэффициенты многочлена записываются в порядке убывания степени\n"
      ]
    },
    {
      "cell_type": "markdown",
      "metadata": {
        "id": "D_y3AT80YThg"
      },
      "source": [
        "Выберем 20 промежуточных точек (включая начальную и конечную точки):"
      ]
    },
    {
      "cell_type": "code",
      "metadata": {
        "colab": {
          "base_uri": "https://localhost:8080/"
        },
        "id": "L4OCMKk7YmNe",
        "outputId": "0a8e8bda-4efe-4ca4-e4c4-2ba2c1676c1b"
      },
      "source": [
        "xx = np.linspace(0.0, 1.0,20)\n",
        "xx"
      ],
      "execution_count": null,
      "outputs": [
        {
          "output_type": "execute_result",
          "data": {
            "text/plain": [
              "array([0.        , 0.05263158, 0.10526316, 0.15789474, 0.21052632,\n",
              "       0.26315789, 0.31578947, 0.36842105, 0.42105263, 0.47368421,\n",
              "       0.52631579, 0.57894737, 0.63157895, 0.68421053, 0.73684211,\n",
              "       0.78947368, 0.84210526, 0.89473684, 0.94736842, 1.        ])"
            ]
          },
          "metadata": {
            "tags": []
          },
          "execution_count": 5
        }
      ]
    },
    {
      "cell_type": "markdown",
      "metadata": {
        "id": "GPuWmrCzfW7K"
      },
      "source": [
        "И посчитаем значения в этих точках:"
      ]
    },
    {
      "cell_type": "code",
      "metadata": {
        "colab": {
          "base_uri": "https://localhost:8080/"
        },
        "id": "xnYyudvBflj8",
        "outputId": "2dc93264-0e2a-4fe1-bc7e-f492009f0528"
      },
      "source": [
        "yy = scipy.special.erf(xx)\n",
        "yy"
      ],
      "execution_count": null,
      "outputs": [
        {
          "output_type": "execute_result",
          "data": {
            "text/plain": [
              "array([0.        , 0.05933359, 0.11833951, 0.17669554, 0.23409012,\n",
              "       0.29022736, 0.3448316 , 0.39765138, 0.44846286, 0.49707249,\n",
              "       0.54331887, 0.58707392, 0.62824324, 0.66676572, 0.70261247,\n",
              "       0.73578515, 0.76631371, 0.79425374, 0.81968353, 0.84270079])"
            ]
          },
          "metadata": {
            "tags": []
          },
          "execution_count": 6
        }
      ]
    },
    {
      "cell_type": "markdown",
      "metadata": {
        "id": "I_X-U3Z1i-BV"
      },
      "source": [
        "Напишем функцию linalg.cond для нахождения числа обусловленности системы, пользуясь тем, что числом обусловленности невырожденной матрицы $A$ называется величина$$\n",
        "{\\rm cond} A =  \\| A \\| \\cdot \\| A^{-1} \\|.\n",
        "$$\n",
        "Найдем число обусловленности нашей системы:"
      ]
    },
    {
      "cell_type": "code",
      "metadata": {
        "colab": {
          "base_uri": "https://localhost:8080/"
        },
        "id": "RtG5nEECg3c3",
        "outputId": "95695a1c-9654-4451-c3b8-696189556785"
      },
      "source": [
        "def cond(A, p=2):\n",
        "    return linalg.norm(A, p)*linalg.norm(linalg.inv(A), p)\n",
        "\n",
        "cond(W)"
      ],
      "execution_count": null,
      "outputs": [
        {
          "output_type": "execute_result",
          "data": {
            "text/plain": [
              "115575244.55218327"
            ]
          },
          "metadata": {
            "tags": []
          },
          "execution_count": 7
        }
      ]
    },
    {
      "cell_type": "markdown",
      "metadata": {
        "id": "7ITYsMgVa2fy"
      },
      "source": [
        "Число обсуловленности можно рассматривать как меру близости матрицы к вырожденной. Чем больше число обусловленности, тем матрица ближе к вырожденной."
      ]
    },
    {
      "cell_type": "markdown",
      "metadata": {
        "id": "vevFVl2mhudF"
      },
      "source": [
        "Найдем абсолютную и относительную ошибки.\n",
        "\n",
        "Абсолютная ошибка:\n",
        "$$\n",
        "   \\|\\Delta x\\| = \\|\\widetilde{x} - x\\|,\n",
        "$$\n",
        "Относительная ошибка:\n",
        "$$\n",
        "   \\frac{\\|\\Delta x\\|}{\\|x\\|} = \\frac{\\|\\widetilde{x} - x\\|}{\\|x\\|}\n",
        "$$\n",
        "где $x$ – некоторый вектор в ${\\bf R}^n$, а $\\widetilde{x}$ – другой вектор в ${\\bf R}^n$, рассматриваемый как приближение к $x$."
      ]
    },
    {
      "cell_type": "code",
      "metadata": {
        "id": "q3KNcAlRkg0r",
        "colab": {
          "base_uri": "https://localhost:8080/"
        },
        "outputId": "1b615df3-a1ca-44a8-cc64-1840edb57f02"
      },
      "source": [
        "print(\"Абсолютная ошибка:\", linalg.norm(W@res-y))\n",
        "print(\"Относительная ошибка:\", linalg.norm(W@res-y)/linalg.norm(y))"
      ],
      "execution_count": null,
      "outputs": [
        {
          "output_type": "stream",
          "text": [
            "Абсолютная ошибка: 1.576213700060856e-16\n",
            "Относительная ошибка: 8.618650116161458e-17\n"
          ],
          "name": "stdout"
        }
      ]
    },
    {
      "cell_type": "markdown",
      "metadata": {
        "id": "sR49Za5P_bXG"
      },
      "source": [
        "Коэффициенты интерполяционного многочлена также можно найти с помощью функции f = np.polyfit:"
      ]
    },
    {
      "cell_type": "code",
      "metadata": {
        "id": "sI5K2ftAiLRg",
        "colab": {
          "base_uri": "https://localhost:8080/"
        },
        "outputId": "1c0f57bc-55cc-4014-cd74-796070c39606"
      },
      "source": [
        "f = np.polyfit(x,y,10)\n",
        "f"
      ],
      "execution_count": null,
      "outputs": [
        {
          "output_type": "execute_result",
          "data": {
            "text/plain": [
              "array([-1.46537046e-03,  5.41662313e-03,  2.13905224e-03, -2.99669733e-02,\n",
              "        2.22912389e-03,  1.11876424e-01,  2.56838097e-04, -3.76167525e-01,\n",
              "        3.55779306e-06,  1.12837904e+00, -3.20950468e-16])"
            ]
          },
          "metadata": {
            "tags": []
          },
          "execution_count": 9
        }
      ]
    },
    {
      "cell_type": "markdown",
      "metadata": {
        "id": "5JxraPlvCsTJ"
      },
      "source": [
        "Сравнивая коэффициенты, полученные двумя способами, видим различие только в последнем коэффициенте. Остальные либо совпадают, либо имеют несущественное различие.\n"
      ]
    },
    {
      "cell_type": "code",
      "metadata": {
        "colab": {
          "base_uri": "https://localhost:8080/",
          "height": 281
        },
        "id": "qKcIEDt2l0Be",
        "outputId": "8554df3b-43bb-486c-9cc4-e95405def628"
      },
      "source": [
        "xx = np.linspace(0.0, 1.0,100)\n",
        "plt.title('График интерполяционного многочлена')\n",
        "plt.plot(xx, np.polyval(f, xx),color = 'tab:blue')\n",
        "plt.plot(x, y, 'or')\n",
        "pass"
      ],
      "execution_count": null,
      "outputs": [
        {
          "output_type": "display_data",
          "data": {
            "image/png": "[encoded data removed]",
            "text/plain": [
              "<Figure size 432x288 with 1 Axes>"
            ]
          },
          "metadata": {
            "tags": [],
            "needs_background": "light"
          }
        }
      ]
    },
    {
      "cell_type": "markdown",
      "metadata": {
        "id": "TH47TdHOdypq"
      },
      "source": [
        "Построим кубический эрмитов интерполянт (scipy.interpolate.pchip):"
      ]
    },
    {
      "cell_type": "code",
      "metadata": {
        "colab": {
          "base_uri": "https://localhost:8080/",
          "height": 281
        },
        "id": "xeoLlt6HH3Bp",
        "outputId": "972f469c-3b9e-4d69-c6ec-08db174424fc"
      },
      "source": [
        "f = scipy.interpolate.pchip(x,y)\n",
        "xx = np.linspace(0.0, 1.0,20)\n",
        "yy = f(xx)\n",
        "plt.title('Кубический эрмитов интерполянт')\n",
        "plt.plot(xx, yy, color = 'tab:blue')\n",
        "plt.plot(x, y, 'or', color = 'red')\n",
        "pass"
      ],
      "execution_count": null,
      "outputs": [
        {
          "output_type": "display_data",
          "data": {
            "image/png": "[encoded data removed]",
            "text/plain": [
              "<Figure size 432x288 with 1 Axes>"
            ]
          },
          "metadata": {
            "tags": [],
            "needs_background": "light"
          }
        }
      ]
    },
    {
      "cell_type": "markdown",
      "metadata": {
        "id": "LHYz-2_ibZKF"
      },
      "source": [
        "Найдем значения интерполянта в тех же 20 промежуточных точках:"
      ]
    },
    {
      "cell_type": "code",
      "metadata": {
        "colab": {
          "base_uri": "https://localhost:8080/"
        },
        "id": "ai8CMyVYbxja",
        "outputId": "633d7d6d-5a97-46c9-d378-cc49f21f9d93"
      },
      "source": [
        "yy"
      ],
      "execution_count": null,
      "outputs": [
        {
          "output_type": "execute_result",
          "data": {
            "text/plain": [
              "array([0.        , 0.0594696 , 0.11832277, 0.17670944, 0.23406215,\n",
              "       0.29024943, 0.34479728, 0.3976799 , 0.44842653, 0.49710501,\n",
              "       0.54328421, 0.58710726, 0.62821322, 0.6667962 , 0.70258918,\n",
              "       0.73580888, 0.76629823, 0.79426708, 0.81967015, 0.84270079])"
            ]
          },
          "metadata": {
            "tags": []
          },
          "execution_count": 12
        }
      ]
    },
    {
      "cell_type": "markdown",
      "metadata": {
        "id": "X7zzajevRYRW"
      },
      "source": [
        "Построим кубический сплайн (scipy.interpolate.CubicSpline):"
      ]
    },
    {
      "cell_type": "code",
      "metadata": {
        "colab": {
          "base_uri": "https://localhost:8080/",
          "height": 281
        },
        "id": "ncOmMcD1KI96",
        "outputId": "5f727559-fea1-47ef-c0f1-5d28522259df"
      },
      "source": [
        "f = scipy.interpolate.CubicSpline(x,y)\n",
        "xx = np.linspace(0.0, 1.0,20)\n",
        "yy = f(xx)\n",
        "plt.title('Кубический сплайн')\n",
        "plt.plot(xx, yy, color = 'tab:blue')\n",
        "plt.plot(x, y, 'or', color = 'red')\n",
        "pass"
      ],
      "execution_count": null,
      "outputs": [
        {
          "output_type": "display_data",
          "data": {
            "image/png": "[encoded data removed]",
            "text/plain": [
              "<Figure size 432x288 with 1 Axes>"
            ]
          },
          "metadata": {
            "tags": [],
            "needs_background": "light"
          }
        }
      ]
    },
    {
      "cell_type": "markdown",
      "metadata": {
        "id": "D6wiueMBb779"
      },
      "source": [
        "Найдем значения интерполянта в тех же 20 промежуточных точках:"
      ]
    },
    {
      "cell_type": "code",
      "metadata": {
        "colab": {
          "base_uri": "https://localhost:8080/"
        },
        "id": "rkM3ejuzb8lM",
        "outputId": "5e0a73f6-25ae-47d8-d86a-f4b056dc7e9d"
      },
      "source": [
        "yy"
      ],
      "execution_count": null,
      "outputs": [
        {
          "output_type": "execute_result",
          "data": {
            "text/plain": [
              "array([0.        , 0.05933708, 0.11833915, 0.17669417, 0.23409011,\n",
              "       0.2902269 , 0.34483122, 0.39765058, 0.44846235, 0.49707181,\n",
              "       0.54331818, 0.58707342, 0.62824234, 0.66676528, 0.70261207,\n",
              "       0.73578527, 0.76631131, 0.79425312, 0.81968986, 0.84270079])"
            ]
          },
          "metadata": {
            "tags": []
          },
          "execution_count": 14
        }
      ]
    },
    {
      "cell_type": "markdown",
      "metadata": {
        "id": "3_8gJ9occdCr"
      },
      "source": [
        "Значения интерполянтов в промежуточных точках различаются, хоть и не очень сильно. Однако при увеличении значений точек, разница становится существеннее."
      ]
    },
    {
      "cell_type": "code",
      "metadata": {
        "colab": {
          "base_uri": "https://localhost:8080/",
          "height": 281
        },
        "id": "E8rO4fch8G3I",
        "outputId": "b9aa7f0d-d45b-4bb2-e10e-d28cfefcddb1"
      },
      "source": [
        "n_vector = []\n",
        "for i in range(1,100):\n",
        "  n_vector.append(i)\n",
        "cond_array = []\n",
        "for n in n_vector:\n",
        "    _x=[]\n",
        "    for i in range(0,n):\n",
        "      _x+=[(i-1)/10]\n",
        "    W = np.vander(_x)\n",
        "    c = cond(W)\n",
        "    cond_array.append(c)\n",
        "plt.semilogy(n_vector, cond_array, '.')\n",
        "plt.title('Зависимость числа обусловленности от степени интерполяционного многочлена')\n",
        "pass"
      ],
      "execution_count": null,
      "outputs": [
        {
          "output_type": "display_data",
          "data": {
            "image/png": "[encoded data removed]",
            "text/plain": [
              "<Figure size 432x288 with 1 Axes>"
            ]
          },
          "metadata": {
            "tags": [],
            "needs_background": "light"
          }
        }
      ]
    }
  ]
}